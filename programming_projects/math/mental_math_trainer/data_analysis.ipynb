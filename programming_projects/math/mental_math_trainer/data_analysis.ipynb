{
 "cells": [
  {
   "cell_type": "code",
   "execution_count": 3,
   "metadata": {},
   "outputs": [],
   "source": [
    "import numpy as np\n",
    "import pandas as pd\n",
    "import matplotlib.pyplot as plt\n",
    "import os"
   ]
  },
  {
   "cell_type": "code",
   "execution_count": 6,
   "metadata": {},
   "outputs": [
    {
     "data": {
      "text/plain": [
       "['2024-04-15_19-42-21.csv',\n",
       " '2024-04-15_19-48-46.csv',\n",
       " '2024-04-15_19-51-52.csv',\n",
       " '2024-04-15_19-52-22.csv',\n",
       " '2024-04-15_19-55-40.csv',\n",
       " '2024-04-15_19-56-15.csv',\n",
       " '2024-04-15_19-57-00.csv',\n",
       " '2024-04-15_19-57-21.csv',\n",
       " '2024-04-15_19-57-50.csv',\n",
       " '2024-04-15_20-00-19.csv',\n",
       " '2024-04-15_20-02-08.csv']"
      ]
     },
     "execution_count": 6,
     "metadata": {},
     "output_type": "execute_result"
    }
   ],
   "source": [
    "list_of_history = sorted(os.listdir(\"./output\"))"
   ]
  },
  {
   "cell_type": "code",
   "execution_count": null,
   "metadata": {},
   "outputs": [],
   "source": []
  }
 ],
 "metadata": {
  "kernelspec": {
   "display_name": "Python 3",
   "language": "python",
   "name": "python3"
  },
  "language_info": {
   "codemirror_mode": {
    "name": "ipython",
    "version": 3
   },
   "file_extension": ".py",
   "mimetype": "text/x-python",
   "name": "python",
   "nbconvert_exporter": "python",
   "pygments_lexer": "ipython3",
   "version": "3.10.12"
  }
 },
 "nbformat": 4,
 "nbformat_minor": 2
}
