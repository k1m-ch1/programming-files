{
 "cells": [
  {
   "cell_type": "code",
   "execution_count": 8,
   "metadata": {},
   "outputs": [],
   "source": [
    "import pandas as pd\n",
    "import numpy as np\n",
    "import math\n",
    "from functools import reduce\n",
    "import csv\n",
    "\n",
    "players = {'A', 'B', 'C'}\n",
    "initial_player = 'A'"
   ]
  },
  {
   "cell_type": "code",
   "execution_count": 9,
   "metadata": {},
   "outputs": [],
   "source": [
    "def pass_ball(list_of_players):\n",
    "    global players\n",
    "    ret_players = []\n",
    "    for player in list_of_players:\n",
    "        ret_players += list(players.difference({player}))\n",
    "    return ret_players\n",
    "\n",
    "def pass_ball_n_times(inital_player, n):\n",
    "    ret_list = [[initial_player]]\n",
    "    for _ in range(n):  \n",
    "        ret_list.append(pass_ball(ret_list[-1]))\n",
    "    return ret_list\n",
    "\n",
    "def record_ball_pass_variation(player_to_record, list_of_passes):\n",
    "    global players\n",
    "    total_possible_players_to_pass_to = len(players) - 1 \n",
    "    number_of_passes = len(list_of_passes) - 1\n",
    "    ret_list = [[pass_variation] + [list_of_passes[i][math.floor(j/(total_possible_players_to_pass_to**(number_of_passes - i)))] for i in range(number_of_passes - 1, -1, -1)] for j, pass_variation in enumerate(list_of_passes[-1]) if pass_variation == player_to_record]\n",
    "    return ret_list\n",
    "\n",
    "generate_latex_table = lambda list_of_variations : \"\\\\begin{table}\\n\\\\begin{tabular}\" + \"{\"  + (\"c \"*len(list_of_variations[0])*2)[:-2] + \"}\" + \"\\n\" + reduce(lambda a, b: a + \"\\\\\\\\ \\n \" + b, [reduce(lambda a, b: a + \" & \\\\rightarrow & \" + b, variation) for variation in list_of_variations]) + \"\\n\\\\end{tabular}\\n\\\\end{table}\"\n"
   ]
  },
  {
   "cell_type": "code",
   "execution_count": 17,
   "metadata": {},
   "outputs": [
    {
     "data": {
      "text/plain": [
       "682"
      ]
     },
     "execution_count": 17,
     "metadata": {},
     "output_type": "execute_result"
    }
   ],
   "source": [
    "list_of_passes = pass_ball_n_times(initial_player, 11)\n",
    "ball_pass_variation = record_ball_pass_variation(initial_player, list_of_passes)\n",
    "with open('./csv_files/ball_pass_variation.txt', 'w') as file:\n",
    "    file.write(generate_latex_table(ball_pass_variation))\n",
    "pd.DataFrame(ball_pass_variation).to_csv('./csv_files/ball_pass_variation.csv', header=False, index=False)\n",
    "\n",
    "list_of_passes[-1].count('A')"
   ]
  },
  {
   "cell_type": "code",
   "execution_count": 5,
   "metadata": {},
   "outputs": [],
   "source": [
    "\n",
    "n = 20\n",
    "pass_ball_data = pass_ball_n_times(initial_player, n)\n",
    "pass_ball_df = pd.DataFrame({f\"Player {player}\": [pass_ball_data[i].count(player) for i in range(n+1)] for player in players})\n",
    "pass_ball_df.to_csv('./csv_files/passing_balls.csv')"
   ]
  },
  {
   "cell_type": "code",
   "execution_count": 6,
   "metadata": {},
   "outputs": [
    {
     "data": {
      "text/plain": [
       "682"
      ]
     },
     "execution_count": 6,
     "metadata": {},
     "output_type": "execute_result"
    }
   ],
   "source": [
    "\n",
    "pass_ball_n_times(initial_player, 11)[-1].count('A')"
   ]
  },
  {
   "cell_type": "code",
   "execution_count": null,
   "metadata": {},
   "outputs": [],
   "source": []
  }
 ],
 "metadata": {
  "kernelspec": {
   "display_name": "Python 3",
   "language": "python",
   "name": "python3"
  },
  "language_info": {
   "codemirror_mode": {
    "name": "ipython",
    "version": 3
   },
   "file_extension": ".py",
   "mimetype": "text/x-python",
   "name": "python",
   "nbconvert_exporter": "python",
   "pygments_lexer": "ipython3",
   "version": "3.11.8"
  }
 },
 "nbformat": 4,
 "nbformat_minor": 2
}
